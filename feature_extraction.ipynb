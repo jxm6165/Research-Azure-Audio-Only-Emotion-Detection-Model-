{
 "cells": [
  {
   "cell_type": "code",
   "execution_count": null,
   "metadata": {},
   "outputs": [],
   "source": [
    "import os\n",
    "import shutil\n",
    "import sys\n",
    "import numpy as np\n",
    "import librosa\n",
    "\n",
    "window_size = 257"
   ]
  },
  {
   "cell_type": "code",
   "execution_count": null,
   "metadata": {},
   "outputs": [],
   "source": [
    "def extract_MFCCs(y,sr):\n",
    "\n",
    "    n_fft = window_size\n",
    "    hop_length = int(n_fft/4)\n",
    "    features = None\n",
    "\n",
    "    mfccs =  librosa.feature.mfcc(y=y, sr=sr, n_mfcc = 60, n_fft = n_fft, hop_length = hop_length)\n",
    "    features = mfccs\n",
    "\n",
    "    delta_mfccs =  librosa.feature.delta(mfccs)\n",
    "    features = np.concatenate((features,delta_mfccs))\n",
    "    \n",
    "    rmse =  librosa.feature.rmse(y=y , frame_length = n_fft , hop_length = hop_length)\n",
    "    features = np.concatenate((features,rmse))\n",
    "\n",
    "    spectral_centroid =  librosa.feature.spectral_centroid(y=y, sr=sr, n_fft = n_fft, hop_length = hop_length)\n",
    "    features = np.concatenate((features,spectral_centroid))\n",
    "    \n",
    "    spectral_bandwidth =  librosa.feature.spectral_bandwidth(y=y, sr=sr, n_fft = n_fft, hop_length = hop_length)\n",
    "    features = np.concatenate((features,spectral_bandwidth))\n",
    "\n",
    "    spectral_contrast =  librosa.feature.spectral_contrast(y=y, sr=sr, n_fft = n_fft, hop_length = hop_length)\n",
    "    features = np.concatenate((features,spectral_contrast))\n",
    "    \n",
    "    spectral_rolloff =  librosa.feature.spectral_rolloff(y=y, sr=sr, n_fft = n_fft, hop_length = hop_length)\n",
    "    features = np.concatenate((features,spectral_rolloff))\n",
    "\n",
    "    zero_crossing_rate =  librosa.feature.zero_crossing_rate(y=y, frame_length = n_fft, hop_length = hop_length)\n",
    "    features = np.concatenate((features,zero_crossing_rate))\n",
    "    \n",
    "    return np.transpose(features)"
   ]
  },
  {
   "cell_type": "code",
   "execution_count": null,
   "metadata": {},
   "outputs": [],
   "source": [
    "# Data is the source folder which contains all train/test audio files.\n",
    "try:\n",
    "    DataPath = os.path.abspath(\"Data\")\n",
    "except:\n",
    "    print(\"No source folder <Data/> in current directory.\\n\")\n",
    "    sys.exit()\n",
    "\n",
    "if os.path.exists(\"MFCC\"):\n",
    "    shutil.rmtree(\"MFCC\")\n",
    "os.makedirs(\"MFCC\")\n",
    "MFCCPath = os.path.abspath(\"MFCC\")\n",
    "\n",
    "labellst = os.listdir(DataPath)\n",
    "for label in labellst:\n",
    "    try:\n",
    "        intlabel = int(label)\n",
    "    except:\n",
    "        labellst.remove(label)\n",
    "\n",
    "if len(labellst) == 0:\n",
    "    print(\"The folder number for each emotion should be an integer.\")\n",
    "    sys.exit()\n",
    "\n",
    "for label in labellst:\n",
    "    TrainPath = '%s/%s/train' % (DataPath, label)\n",
    "    TestPath = '%s/%s/test' % (DataPath, label)\n",
    "    TrainFeaturePath = os.path.join(MFCCPath, 'csv/%s/train' % label)\n",
    "    TestFeaturePath = os.path.join(MFCCPath, 'csv/%s/test' % label)\n",
    "    os.makedirs(TrainFeaturePath)\n",
    "    os.makedirs(TestFeaturePath)\n",
    "    \n",
    "    for file in os.listdir(TrainPath):\n",
    "        filePath = os.path.join(TrainPath, file)\n",
    "        filename = os.path.splitext(file)[0]\n",
    "        y,sr = librosa.load(filePath)\n",
    "        features = extract_MFCCs(y,sr)\n",
    "        outputPath = os.path.join(TrainFeaturePath, filename)\n",
    "        np.savetxt(outputPath + '.csv', features, fmt='%1.3f', delimiter=\",\")\n",
    "    \n",
    "    for file in os.listdir(TestPath):\n",
    "        filePath = os.path.join(TestPath, file)\n",
    "        filename = os.path.splitext(file)[0]\n",
    "        y,sr = librosa.load(filePath)\n",
    "        features = extract_MFCCs(y,sr)\n",
    "        outputPath = os.path.join(TestFeaturePath, filename)\n",
    "        np.savetxt(outputPath + '.csv', features, fmt='%1.3f', delimiter=\",\")               "
   ]
  },
  {
   "cell_type": "code",
   "execution_count": null,
   "metadata": {},
   "outputs": [],
   "source": [
    "for file in os.listdir(\"MFCC/csv/0/test\"):\n",
    "    csv_features = np.loadtxt(\"MFCC/csv/0/test/\"+file, delimiter = \",\")\n",
    "    print(file)\n",
    "    break"
   ]
  },
  {
   "cell_type": "code",
   "execution_count": null,
   "metadata": {},
   "outputs": [],
   "source": [
    "csv_features"
   ]
  },
  {
   "cell_type": "code",
   "execution_count": null,
   "metadata": {},
   "outputs": [],
   "source": [
    "csv_features.shape"
   ]
  },
  {
   "cell_type": "code",
   "execution_count": null,
   "metadata": {},
   "outputs": [],
   "source": []
  }
 ],
 "metadata": {
  "kernelspec": {
   "display_name": "Python 3",
   "language": "python",
   "name": "python3"
  },
  "language_info": {
   "codemirror_mode": {
    "name": "ipython",
    "version": 3
   },
   "file_extension": ".py",
   "mimetype": "text/x-python",
   "name": "python",
   "nbconvert_exporter": "python",
   "pygments_lexer": "ipython3",
   "version": "3.6.5"
  }
 },
 "nbformat": 4,
 "nbformat_minor": 2
}
