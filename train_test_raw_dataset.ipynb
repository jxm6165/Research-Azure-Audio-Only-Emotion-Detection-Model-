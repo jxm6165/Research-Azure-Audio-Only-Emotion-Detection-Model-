{
 "cells": [
  {
   "cell_type": "code",
   "execution_count": null,
   "metadata": {},
   "outputs": [],
   "source": [
    "import os\n",
    "import numpy as np"
   ]
  },
  {
   "cell_type": "code",
   "execution_count": null,
   "metadata": {},
   "outputs": [],
   "source": [
    "csvPath = os.path.abspath(\"MFCC/csv\")\n",
    "labellst = os.listdir(csvPath)\n",
    "for label in labellst:\n",
    "    try:\n",
    "        intlabel = int(label)\n",
    "    except:\n",
    "        labellst.remove(label)"
   ]
  },
  {
   "cell_type": "code",
   "execution_count": null,
   "metadata": {},
   "outputs": [],
   "source": [
    "feature_train = None\n",
    "label_train = None\n",
    "feature_test = None\n",
    "label_test = None"
   ]
  },
  {
   "cell_type": "code",
   "execution_count": null,
   "metadata": {},
   "outputs": [],
   "source": [
    "for label in labellst:\n",
    "    TrainPath = '%s/%s/train' % (csvPath, label)\n",
    "    TestPath = '%s/%s/test' % (csvPath, label)\n",
    "    \n",
    "    for file in os.listdir(TrainPath):\n",
    "        filePath = os.path.join(TrainPath, file)\n",
    "        csv_features = np.loadtxt(filePath, delimiter = \",\")\n",
    "        csv_features = csv_features[~np.isnan(csv_features).any(axis=1)]\n",
    "        if feature_train is None:\n",
    "            feature_train = csv_features\n",
    "        else:\n",
    "            feature_train = np.concatenate((feature_train, csv_features))\n",
    "\n",
    "        feature_num = csv_features.shape[0]\n",
    "        csv_labels = [int(label)] * int(feature_num)\n",
    "        csv_labels = np.expand_dims(csv_labels, axis=1)\n",
    "        if label_train is None:\n",
    "            label_train = csv_labels\n",
    "        else:\n",
    "            label_train = np.concatenate((label_train, csv_labels))\n",
    "    \n",
    "    print(\"Now, processing Label %s\" % label)\n",
    "    # Total Training Features for label:\n",
    "    print(\"Total feature_train.shape:\", feature_train.shape)\n",
    "    # Total Training Tags for label:\n",
    "    print(\"Total label_train.shape:\", label_train.shape)\n",
    "    np.savetxt(\"MFCC/feature_train.csv\", feature_train, fmt = '%1.3f', delimiter=',')\n",
    "    np.savetxt(\"MFCC/label_train.csv\", label_train, delimiter = ',')\n",
    "    \n",
    "    for file in os.listdir(TestPath):\n",
    "        filePath = os.path.join(TestPath, file)\n",
    "        csv_features = np.loadtxt(filePath, delimiter = \",\")\n",
    "        csv_features = csv_features[~np.isnan(csv_features).any(axis=1)]\n",
    "        if feature_test is None:\n",
    "            feature_test = csv_features\n",
    "        else:\n",
    "            feature_test = np.concatenate((feature_test, csv_features))\n",
    "\n",
    "        feature_num = csv_features.shape[0]\n",
    "        csv_labels = [int(label)] * int(feature_num)\n",
    "        csv_labels = np.expand_dims(csv_labels, axis=1)\n",
    "        if label_test is None:\n",
    "            label_test = csv_labels\n",
    "        else:\n",
    "            label_test = np.concatenate((label_test, csv_labels))\n",
    "\n",
    "    # Total Testing Features for label:\n",
    "    print(\"Total feature_test.shape:\", feature_test.shape)\n",
    "    # Total Testing Tags for label:\n",
    "    print(\"Total label_test.shape:\", label_test.shape)\n",
    "    print()\n",
    "    np.savetxt(\"MFCC/feature_test.csv\", feature_test, fmt = '%1.3f', delimiter=',')\n",
    "    np.savetxt(\"MFCC/label_test.csv\", label_test, delimiter = ',')"
   ]
  },
  {
   "cell_type": "code",
   "execution_count": null,
   "metadata": {},
   "outputs": [],
   "source": [
    "print(\"Total number of Training Features are\", feature_train.shape[0])\n",
    "print(\"Total number of Testing Features are\", feature_test.shape[0])"
   ]
  },
  {
   "cell_type": "code",
   "execution_count": null,
   "metadata": {},
   "outputs": [],
   "source": [
    "print(\"Total number of Training Labels are\", label_train.shape[0])\n",
    "print(\"Total number of Testing Labels are\", label_test.shape[0])"
   ]
  },
  {
   "cell_type": "code",
   "execution_count": null,
   "metadata": {},
   "outputs": [],
   "source": []
  }
 ],
 "metadata": {
  "kernelspec": {
   "display_name": "Python 3",
   "language": "python",
   "name": "python3"
  },
  "language_info": {
   "codemirror_mode": {
    "name": "ipython",
    "version": 3
   },
   "file_extension": ".py",
   "mimetype": "text/x-python",
   "name": "python",
   "nbconvert_exporter": "python",
   "pygments_lexer": "ipython3",
   "version": "3.6.5"
  }
 },
 "nbformat": 4,
 "nbformat_minor": 2
}
