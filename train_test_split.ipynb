{
 "cells": [
  {
   "cell_type": "code",
   "execution_count": null,
   "metadata": {},
   "outputs": [],
   "source": [
    "import os\n",
    "from sklearn.model_selection import train_test_split"
   ]
  },
  {
   "cell_type": "code",
   "execution_count": null,
   "metadata": {},
   "outputs": [],
   "source": [
    "X = y= os.listdir('0')\n",
    "\n",
    "X_train, X_test, y_train, y_test = train_test_split(X, y, test_size=0.3, random_state=0)\n",
    "\n",
    "for x in X_train:\n",
    "    os.rename('0/'+x , 'train/'+x)\n",
    "\n",
    "for x in X_test:\n",
    "    os.rename('0/'+x , 'test/'+x)"
   ]
  },
  {
   "cell_type": "code",
   "execution_count": null,
   "metadata": {},
   "outputs": [],
   "source": [
    "X = y= os.listdir('1')\n",
    "\n",
    "X_train, X_test, y_train, y_test = train_test_split(X, y, test_size=0.3, random_state=0)\n",
    "\n",
    "for x in X_train:\n",
    "    os.rename('1/'+x , 'train/'+x)\n",
    "\n",
    "for x in X_test:\n",
    "    os.rename('1/'+x , 'test/'+x)"
   ]
  },
  {
   "cell_type": "code",
   "execution_count": null,
   "metadata": {},
   "outputs": [],
   "source": [
    "X = y= os.listdir('2')\n",
    "\n",
    "X_train, X_test, y_train, y_test = train_test_split(X, y, test_size=0.3, random_state=0)\n",
    "\n",
    "for x in X_train:\n",
    "    os.rename('2/'+x , 'train/'+x)\n",
    "\n",
    "for x in X_test:\n",
    "    os.rename('2/'+x , 'test/'+x)"
   ]
  },
  {
   "cell_type": "code",
   "execution_count": null,
   "metadata": {},
   "outputs": [],
   "source": [
    "X = y= os.listdir('3')\n",
    "\n",
    "X_train, X_test, y_train, y_test = train_test_split(X, y, test_size=0.3, random_state=0)\n",
    "\n",
    "for x in X_train:\n",
    "    os.rename('3/'+x , 'train/'+x)\n",
    "\n",
    "for x in X_test:\n",
    "    os.rename('3/'+x , 'test/'+x)"
   ]
  },
  {
   "cell_type": "code",
   "execution_count": null,
   "metadata": {},
   "outputs": [],
   "source": [
    "X = y= os.listdir('4')\n",
    "\n",
    "X_train, X_test, y_train, y_test = train_test_split(X, y, test_size=0.3, random_state=0)\n",
    "\n",
    "for x in X_train:\n",
    "    os.rename('4/'+x , 'train/'+x)\n",
    "\n",
    "for x in X_test:\n",
    "    os.rename('4/'+x , 'test/'+x)"
   ]
  },
  {
   "cell_type": "code",
   "execution_count": null,
   "metadata": {},
   "outputs": [],
   "source": [
    "X = y= os.listdir('5')\n",
    "\n",
    "X_train, X_test, y_train, y_test = train_test_split(X, y, test_size=0.3, random_state=0)\n",
    "\n",
    "for x in X_train:\n",
    "    os.rename('5/'+x , 'train/'+x)\n",
    "\n",
    "for x in X_test:\n",
    "    os.rename('5/'+x , 'test/'+x)"
   ]
  }
 ],
 "metadata": {
  "kernelspec": {
   "display_name": "Python 3",
   "language": "python",
   "name": "python3"
  },
  "language_info": {
   "codemirror_mode": {
    "name": "ipython",
    "version": 3
   },
   "file_extension": ".py",
   "mimetype": "text/x-python",
   "name": "python",
   "nbconvert_exporter": "python",
   "pygments_lexer": "ipython3",
   "version": "3.6.5"
  }
 },
 "nbformat": 4,
 "nbformat_minor": 2
}
